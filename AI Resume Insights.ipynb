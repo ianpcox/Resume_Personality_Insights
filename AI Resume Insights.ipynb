{
 "cells": [
  {
   "cell_type": "markdown",
   "metadata": {},
   "source": [
    "# AI Resume Insights\n",
    "\n",
    "Uses IBM Watson Personality Insights and Python (PyPDF2, Seaborn) to ingest a PDF of a résumé and analyze by the personality measures available in the Personality Insights service.  Data visualisation is primarily done with Seaborn."
   ]
  },
  {
   "cell_type": "markdown",
   "metadata": {},
   "source": [
    "# 0. \n"
   ]
  },
  {
   "cell_type": "code",
   "execution_count": 1,
   "metadata": {},
   "outputs": [
    {
     "name": "stdout",
     "output_type": "stream",
     "text": [
      "Collecting PyPDF2\n",
      "  Downloading PyPDF2-1.26.0.tar.gz (77 kB)\n",
      "Building wheels for collected packages: PyPDF2\n",
      "  Building wheel for PyPDF2 (setup.py): started\n",
      "  Building wheel for PyPDF2 (setup.py): finished with status 'done'\n",
      "  Created wheel for PyPDF2: filename=PyPDF2-1.26.0-py3-none-any.whl size=61087 sha256=6c601346308564e2a46cc6bf0ca164ebfa08359996d28b77f39d75e7086581a9\n",
      "  Stored in directory: c:\\users\\ipac\\appdata\\local\\pip\\cache\\wheels\\b1\\1a\\8f\\a4c34be976825a2f7948d0fa40907598d69834f8ab5889de11\n",
      "Successfully built PyPDF2\n",
      "Installing collected packages: PyPDF2\n",
      "Successfully installed PyPDF2-1.26.0\n"
     ]
    }
   ],
   "source": [
    "# !pip install PyPDF2"
   ]
  },
  {
   "cell_type": "markdown",
   "metadata": {},
   "source": [
    "# 1. Read in Résumé\n"
   ]
  },
  {
   "cell_type": "code",
   "execution_count": 2,
   "metadata": {},
   "outputs": [],
   "source": [
    "# import PyPDF2 as pdf"
   ]
  },
  {
   "cell_type": "code",
   "execution_count": 3,
   "metadata": {},
   "outputs": [],
   "source": [
    "# resume_file_path = './Ian Cox = Resume.pdf'\n",
    "# filehandle = open(resume_file_path, 'rb')"
   ]
  },
  {
   "cell_type": "code",
   "execution_count": 5,
   "metadata": {},
   "outputs": [],
   "source": [
    "# pdfReader = pdf.PdfFileReader(filehandle)\n",
    "# pageHandle = pdfreader.getPate(0)\n",
    "# test = pageHandle.extractText()\n",
    "# text = text.replace('|', '')\n",
    "# # text = text.replace('|', '')"
   ]
  },
  {
   "cell_type": "code",
   "execution_count": 7,
   "metadata": {},
   "outputs": [],
   "source": [
    "# text"
   ]
  },
  {
   "cell_type": "markdown",
   "metadata": {},
   "source": [
    "# 2. Import and Authenticate to Service \n"
   ]
  },
  {
   "cell_type": "code",
   "execution_count": 9,
   "metadata": {},
   "outputs": [],
   "source": [
    "# from ibm_watson import PersonalityInsightsV3\n",
    "# from ibm_cloud_adk_core.authenticators import IAMAuthenticator"
   ]
  },
  {
   "cell_type": "code",
   "execution_count": null,
   "metadata": {},
   "outputs": [],
   "source": [
    "# apikey = ''\n",
    "# url = ''"
   ]
  },
  {
   "cell_type": "code",
   "execution_count": null,
   "metadata": {},
   "outputs": [],
   "source": [
    "# authenticator = IAMAuthenticator(apikey)\n",
    "# personality_insights = PersonalityInsightsV3(\n",
    "#     version  = '<DATE>') # needs date input\n",
    "#     authentiator = authenticator\n",
    "# )\n",
    "\n",
    "# personality_insights.set_service_url(url)"
   ]
  },
  {
   "cell_type": "markdown",
   "metadata": {},
   "source": [
    "# 3. Extract Resume Personality Insights \n"
   ]
  },
  {
   "cell_type": "code",
   "execution_count": 2,
   "metadata": {},
   "outputs": [],
   "source": [
    "# profile = personality_insights.profile(text, accept = 'application/json').get_result()\n",
    "# profile"
   ]
  },
  {
   "cell_type": "code",
   "execution_count": 3,
   "metadata": {},
   "outputs": [],
   "source": [
    "# for personality in profile['personality']:\n",
    "#     print(personality['name'], presonality['percentile'])"
   ]
  },
  {
   "cell_type": "code",
   "execution_count": null,
   "metadata": {},
   "outputs": [],
   "source": [
    "# for personality in profile['values']:\n",
    "#     print(personality['name'], presonality['percentile'])"
   ]
  },
  {
   "cell_type": "code",
   "execution_count": null,
   "metadata": {},
   "outputs": [],
   "source": [
    "# for personality in profile['needs']:\n",
    "#     print(personality['name'], presonality['percentile'])"
   ]
  },
  {
   "cell_type": "markdown",
   "metadata": {},
   "source": [
    "# 4. Visualise Insights\n"
   ]
  },
  {
   "cell_type": "code",
   "execution_count": 10,
   "metadata": {},
   "outputs": [],
   "source": [
    "# from matplotlib import pyplot as plt\n",
    "# import seaborn as sns\n",
    "# import pandas as pd"
   ]
  },
  {
   "cell_type": "code",
   "execution_count": 11,
   "metadata": {},
   "outputs": [],
   "source": [
    "# needs = profile['needs']\n",
    "# result = {need[name]:need['percentile']for need in needs}\n",
    "# df = pd.DataFrame.from_dict[result, orient='index']\n",
    "# df.reset_index(inplace=True)\n",
    "# df.columns = ['need', 'percentile']"
   ]
  },
  {
   "cell_type": "code",
   "execution_count": 12,
   "metadata": {},
   "outputs": [],
   "source": [
    "# df.head(12)"
   ]
  },
  {
   "cell_type": "code",
   "execution_count": 9,
   "metadata": {},
   "outputs": [],
   "source": [
    "# plt.figure(figsize=15,5)\n",
    "# sns.barplot(y='percentile', x='need', data=df).set_title('Traits by Percentile')\n",
    "# plt.show()"
   ]
  },
  {
   "cell_type": "code",
   "execution_count": 6,
   "metadata": {},
   "outputs": [],
   "source": [
    "# values = profile['values']\n",
    "# result = {values[name]:values['percentile']for value in values}\n",
    "# df = pd.DataFrame.from_dict[result, orient='index']\n",
    "# df.reset_index(inplace=True)\n",
    "# df.columns = ['values', 'percentile']"
   ]
  },
  {
   "cell_type": "code",
   "execution_count": 8,
   "metadata": {},
   "outputs": [],
   "source": [
    "# df.head(12)"
   ]
  },
  {
   "cell_type": "code",
   "execution_count": 9,
   "metadata": {},
   "outputs": [],
   "source": [
    "# plt.figure(figsize=15,5)\n",
    "# sns.barplot(y='percentile', x='values', data=df).set_title('Traits by Percentile')\n",
    "# plt.show()"
   ]
  },
  {
   "cell_type": "code",
   "execution_count": 6,
   "metadata": {},
   "outputs": [],
   "source": [
    "# personality = profile['personality']\n",
    "# result = {personality[name]:personality['percentile']for personality in personalities}\n",
    "# df = pd.DataFrame.from_dict[result, orient='index']\n",
    "# df.reset_index(inplace=True)\n",
    "# df.columns = ['need', 'percentile']"
   ]
  },
  {
   "cell_type": "code",
   "execution_count": 8,
   "metadata": {},
   "outputs": [],
   "source": [
    "# df.head(12)"
   ]
  },
  {
   "cell_type": "code",
   "execution_count": 9,
   "metadata": {},
   "outputs": [],
   "source": [
    "# plt.figure(figsize=15,5)\n",
    "# sns.barplot(y='percentile', x='personality', data=df).set_title('Traits by Percentile')\n",
    "# plt.show()"
   ]
  }
 ],
 "metadata": {
  "kernelspec": {
   "display_name": "Python 3",
   "language": "python",
   "name": "python3"
  },
  "language_info": {
   "codemirror_mode": {
    "name": "ipython",
    "version": 3
   },
   "file_extension": ".py",
   "mimetype": "text/x-python",
   "name": "python",
   "nbconvert_exporter": "python",
   "pygments_lexer": "ipython3",
   "version": "3.8.5"
  }
 },
 "nbformat": 4,
 "nbformat_minor": 4
}
